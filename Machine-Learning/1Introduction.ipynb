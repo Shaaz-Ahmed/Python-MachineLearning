{
 "cells": [
  {
   "cell_type": "code",
   "execution_count": 1,
   "id": "26995257-4653-4190-8308-3c849bafcfa1",
   "metadata": {},
   "outputs": [],
   "source": [
    "# Machine learning is a buzz word nowadays\n",
    "# Machine learning is a way for computer to learn from experience instead of beign programming with specific instruction"
   ]
  },
  {
   "cell_type": "code",
   "execution_count": 2,
   "id": "4709915f-7283-428c-87f3-fb9d52edc138",
   "metadata": {},
   "outputs": [],
   "source": [
    "# Application:\n",
    "# 1. Image recognization\n",
    "# 2. Speech recognization\n",
    "# 3. Product recomendation\n",
    "# 4. self drivinf car\n",
    "# 5. stock market trading"
   ]
  },
  {
   "cell_type": "code",
   "execution_count": 4,
   "id": "e5e2b11e-5541-423e-af93-51b08e5f1475",
   "metadata": {},
   "outputs": [],
   "source": [
    "# There are three categories of Machine Learning\n",
    "# 1. Supervised Learning\n",
    "# 2. Unsupervised Learning\n",
    "# 3. Reinforcement Learning"
   ]
  },
  {
   "cell_type": "code",
   "execution_count": 5,
   "id": "e92584aa-18db-477d-a542-86c21342daf1",
   "metadata": {},
   "outputs": [],
   "source": []
  },
  {
   "cell_type": "code",
   "execution_count": null,
   "id": "87abba31-779b-45f8-8468-4e8f2c39bf92",
   "metadata": {},
   "outputs": [],
   "source": []
  },
  {
   "cell_type": "code",
   "execution_count": null,
   "id": "9b609ae6-d263-465f-accd-b80432bb7dce",
   "metadata": {},
   "outputs": [],
   "source": []
  },
  {
   "cell_type": "code",
   "execution_count": 6,
   "id": "7e1ce7c2-dc4f-4569-be7a-297f344103b1",
   "metadata": {},
   "outputs": [],
   "source": [
    "# Supervised learning"
   ]
  },
  {
   "cell_type": "code",
   "execution_count": 7,
   "id": "57f0215e-def4-4822-8daa-264224869bda",
   "metadata": {},
   "outputs": [],
   "source": [
    "# Supervised learning is a machine learning methods in which models are trained using labelled data \n",
    "# In supervised learning need supervision to train data similar to as class.\n",
    "# The labelled data means its having the label"
   ]
  },
  {
   "cell_type": "code",
   "execution_count": null,
   "id": "29682ea0-c774-47b3-8ebb-6a6a622bedc8",
   "metadata": {},
   "outputs": [],
   "source": []
  },
  {
   "cell_type": "code",
   "execution_count": 8,
   "id": "74c2db42-8f9c-4f9e-8a50-8469ddfbc0e1",
   "metadata": {},
   "outputs": [],
   "source": [
    "# Unsupervised learning:"
   ]
  },
  {
   "cell_type": "code",
   "execution_count": null,
   "id": "e65f36c0-a1bf-46c9-b7ae-39f761142370",
   "metadata": {},
   "outputs": [],
   "source": [
    "\n",
    "#Unsupervised learning in artificial intelligence is a type of machine learning that learns from data without human supervision. \n",
    "# Unlike supervised learning, unsupervised machine learning models are given unlabeled data and allowed to discover patterns and insights without \n",
    "# any explicit guidance or instruction."
   ]
  }
 ],
 "metadata": {
  "kernelspec": {
   "display_name": "Python 3 (ipykernel)",
   "language": "python",
   "name": "python3"
  },
  "language_info": {
   "codemirror_mode": {
    "name": "ipython",
    "version": 3
   },
   "file_extension": ".py",
   "mimetype": "text/x-python",
   "name": "python",
   "nbconvert_exporter": "python",
   "pygments_lexer": "ipython3",
   "version": "3.12.1"
  }
 },
 "nbformat": 4,
 "nbformat_minor": 5
}
